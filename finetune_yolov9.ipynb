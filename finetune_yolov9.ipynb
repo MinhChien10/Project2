{
 "cells": [
  {
   "cell_type": "markdown",
   "id": "7734b545",
   "metadata": {
    "_cell_guid": "53695642-d91a-488c-808e-3ef4f2c47cfb",
    "_uuid": "542a3eea-c2e5-43db-886c-0e1a52e3d040",
    "papermill": {
     "duration": 0.007022,
     "end_time": "2024-06-10T16:00:59.056263",
     "exception": false,
     "start_time": "2024-06-10T16:00:59.049241",
     "status": "completed"
    },
    "tags": []
   },
   "source": [
    "## Clone YOLOv9"
   ]
  },
  {
   "cell_type": "code",
   "execution_count": 1,
   "id": "98df100e",
   "metadata": {
    "_cell_guid": "e407342d-46c4-4c25-a713-a30c5d502706",
    "_uuid": "f0e5fff5-7feb-418d-96db-d1f4d72d510a",
    "collapsed": false,
    "execution": {
     "iopub.execute_input": "2024-06-10T16:00:59.070110Z",
     "iopub.status.busy": "2024-06-10T16:00:59.069753Z",
     "iopub.status.idle": "2024-06-10T16:00:59.074139Z",
     "shell.execute_reply": "2024-06-10T16:00:59.073389Z"
    },
    "jupyter": {
     "outputs_hidden": false
    },
    "papermill": {
     "duration": 0.013403,
     "end_time": "2024-06-10T16:00:59.076057",
     "exception": false,
     "start_time": "2024-06-10T16:00:59.062654",
     "status": "completed"
    },
    "tags": []
   },
   "outputs": [],
   "source": [
    "# # clone YOLO v9\n",
    "!git clone https://github.com/WongKinYiu/yolov9.git"
   ]
  },
  {
   "cell_type": "markdown",
   "id": "d1e6462e",
   "metadata": {
    "_cell_guid": "6932bf4e-2639-4afc-8bb1-c7eb2db3a289",
    "_uuid": "3a5be903-7033-40a6-af3b-605f4612bd71",
    "papermill": {
     "duration": 0.005955,
     "end_time": "2024-06-10T16:00:59.088474",
     "exception": false,
     "start_time": "2024-06-10T16:00:59.082519",
     "status": "completed"
    },
    "tags": []
   },
   "source": [
    "GPU check"
   ]
  },
  {
   "cell_type": "code",
   "execution_count": 2,
   "id": "ae7fbc21",
   "metadata": {
    "_cell_guid": "7b8ad849-419a-4fdf-a844-e7370a2b8579",
    "_uuid": "1e1a6f38-1c70-4cbd-a322-23914f6b94f4",
    "collapsed": false,
    "execution": {
     "iopub.execute_input": "2024-06-10T16:00:59.102241Z",
     "iopub.status.busy": "2024-06-10T16:00:59.101984Z",
     "iopub.status.idle": "2024-06-10T16:00:59.105582Z",
     "shell.execute_reply": "2024-06-10T16:00:59.104796Z"
    },
    "jupyter": {
     "outputs_hidden": false
    },
    "papermill": {
     "duration": 0.01247,
     "end_time": "2024-06-10T16:00:59.107429",
     "exception": false,
     "start_time": "2024-06-10T16:00:59.094959",
     "status": "completed"
    },
    "tags": []
   },
   "outputs": [],
   "source": [
    "# !nvidia-smi"
   ]
  },
  {
   "cell_type": "markdown",
   "id": "b6e663ec",
   "metadata": {
    "_cell_guid": "dda5ef23-1322-4f01-a05d-3e82b1868b60",
    "_uuid": "0ba319d9-3051-4b9b-a04f-d49e5b20df9b",
    "papermill": {
     "duration": 0.005962,
     "end_time": "2024-06-10T16:00:59.119655",
     "exception": false,
     "start_time": "2024-06-10T16:00:59.113693",
     "status": "completed"
    },
    "tags": []
   },
   "source": [
    "## Get pre-train model YOLOv9-e, gelan-c"
   ]
  },
  {
   "cell_type": "code",
   "execution_count": 3,
   "id": "5445257d",
   "metadata": {
    "_cell_guid": "1a7d774f-5ce4-42d2-9281-33eee22762ef",
    "_uuid": "2c18452f-da54-4069-b5b1-b02039a10529",
    "collapsed": false,
    "execution": {
     "iopub.execute_input": "2024-06-10T16:00:59.133354Z",
     "iopub.status.busy": "2024-06-10T16:00:59.133093Z",
     "iopub.status.idle": "2024-06-10T16:00:59.136590Z",
     "shell.execute_reply": "2024-06-10T16:00:59.135812Z"
    },
    "jupyter": {
     "outputs_hidden": false
    },
    "papermill": {
     "duration": 0.012464,
     "end_time": "2024-06-10T16:00:59.138525",
     "exception": false,
     "start_time": "2024-06-10T16:00:59.126061",
     "status": "completed"
    },
    "tags": []
   },
   "outputs": [],
   "source": [
    "# # get pretrained-model\n",
    "!wget -P /kaggle/working/yolov9 https://github.com/WongKinYiu/yolov9/releases/download/v0.1/yolov9-e-converted.pt\n",
    "!wget -P /kaggle/working/yolov9 https://github.com/WongKinYiu/yolov9/releases/download/v0.1/gelan-c.pt"
   ]
  },
  {
   "cell_type": "code",
   "execution_count": 4,
   "id": "0bcbd5b5",
   "metadata": {
    "_cell_guid": "c3f67d93-b092-4835-9947-7dfc375ab1e9",
    "_uuid": "31f27e4e-834c-4d24-9269-4502b641c17f",
    "collapsed": false,
    "execution": {
     "iopub.execute_input": "2024-06-10T16:00:59.152267Z",
     "iopub.status.busy": "2024-06-10T16:00:59.151995Z",
     "iopub.status.idle": "2024-06-10T16:00:59.155446Z",
     "shell.execute_reply": "2024-06-10T16:00:59.154672Z"
    },
    "jupyter": {
     "outputs_hidden": false
    },
    "papermill": {
     "duration": 0.012357,
     "end_time": "2024-06-10T16:00:59.157290",
     "exception": false,
     "start_time": "2024-06-10T16:00:59.144933",
     "status": "completed"
    },
    "tags": []
   },
   "outputs": [],
   "source": [
    "%cd /kaggle/working/yolov9\n",
    "!pip install -r requirements.txt"
   ]
  },
  {
   "cell_type": "markdown",
   "id": "11fe0274",
   "metadata": {
    "_cell_guid": "bd1eea2d-2324-4c46-b82b-95556ec5b07d",
    "_uuid": "772cfc65-b9ec-4add-87d3-135fba4e3c86",
    "papermill": {
     "duration": 0.005925,
     "end_time": "2024-06-10T16:00:59.169438",
     "exception": false,
     "start_time": "2024-06-10T16:00:59.163513",
     "status": "completed"
    },
    "tags": []
   },
   "source": [
    "Change gelan config to 1 class"
   ]
  },
  {
   "cell_type": "code",
   "execution_count": 5,
   "id": "f32c3473",
   "metadata": {
    "_cell_guid": "9e75f9a9-c5da-4b88-b805-e6c2d12001fc",
    "_uuid": "55c21921-16e0-4ac1-8689-c91a3b5f8f6d",
    "collapsed": false,
    "execution": {
     "iopub.execute_input": "2024-06-10T16:00:59.182728Z",
     "iopub.status.busy": "2024-06-10T16:00:59.182478Z",
     "iopub.status.idle": "2024-06-10T16:00:59.185999Z",
     "shell.execute_reply": "2024-06-10T16:00:59.185208Z"
    },
    "jupyter": {
     "outputs_hidden": false
    },
    "papermill": {
     "duration": 0.012081,
     "end_time": "2024-06-10T16:00:59.187778",
     "exception": false,
     "start_time": "2024-06-10T16:00:59.175697",
     "status": "completed"
    },
    "tags": []
   },
   "outputs": [],
   "source": [
    "!cp /kaggle/working/yolov9/models/detect/gelan-c.yaml /kaggle/working/yolov9/models/detect/YOLOv9-gelan-c.yaml"
   ]
  },
  {
   "cell_type": "code",
   "execution_count": 6,
   "id": "1afcd10f",
   "metadata": {
    "execution": {
     "iopub.execute_input": "2024-06-10T16:00:59.201405Z",
     "iopub.status.busy": "2024-06-10T16:00:59.200901Z",
     "iopub.status.idle": "2024-06-10T16:00:59.205586Z",
     "shell.execute_reply": "2024-06-10T16:00:59.204797Z"
    },
    "papermill": {
     "duration": 0.013509,
     "end_time": "2024-06-10T16:00:59.207448",
     "exception": false,
     "start_time": "2024-06-10T16:00:59.193939",
     "status": "completed"
    },
    "tags": []
   },
   "outputs": [],
   "source": [
    "%%writefile /kaggle/working/yolov9/data/hyps/hyp.scratch-high.yaml\n",
    "\n",
    "lr0: 0.001  # initial learning rate (SGD=1E-2, Adam=1E-3)\n",
    "lrf: 0.01  # final OneCycleLR learning rate (lr0 * lrf)\n",
    "momentum: 0.937  # SGD momentum/Adam beta1\n",
    "weight_decay: 0.0005  # optimizer weight decay 5e-4\n",
    "warmup_epochs: 3.0  # warmup epochs (fractions ok)\n",
    "warmup_momentum: 0.8  # warmup initial momentum\n",
    "warmup_bias_lr: 0.1  # warmup initial bias lr\n",
    "box: 7.5  # box loss gain\n",
    "cls: 0.5  # cls loss gain\n",
    "cls_pw: 1.0  # cls BCELoss positive_weight\n",
    "obj: 0.7  # obj loss gain (scale with pixels)\n",
    "obj_pw: 1.0  # obj BCELoss positive_weight\n",
    "dfl: 1.5  # dfl loss gain\n",
    "iou_t: 0.20  # IoU training threshold\n",
    "anchor_t: 5.0  # anchor-multiple threshold\n",
    "# anchors: 3  # anchors per output layer (0 to ignore)\n",
    "fl_gamma: 0.0  # focal loss gamma (efficientDet default gamma=1.5)\n",
    "hsv_h: 0.015  # image HSV-Hue augmentation (fraction)\n",
    "hsv_s: 0.7  # image HSV-Saturation augmentation (fraction)\n",
    "hsv_v: 0.4  # image HSV-Value augmentation (fraction)\n",
    "degrees: 0.0  # image rotation (+/- deg)\n",
    "translate: 0.1  # image translation (+/- fraction)\n",
    "scale: 0.9  # image scale (+/- gain)\n",
    "shear: 0.0  # image shear (+/- deg)\n",
    "perspective: 0.0  # image perspective (+/- fraction), range 0-0.001\n",
    "flipud: 0.0  # image flip up-down (probability)\n",
    "fliplr: 0.5  # image flip left-right (probability)\n",
    "mosaic: 1.0  # image mosaic (probability)\n",
    "mixup: 0.15  # image mixup (probability)\n",
    "copy_paste: 0.3  # segment copy-paste (probability)\n"
   ]
  },
  {
   "cell_type": "code",
   "execution_count": 7,
   "id": "a73d8a63",
   "metadata": {
    "_cell_guid": "b9241b72-3876-4168-a6d7-5dcc1a27b988",
    "_uuid": "93bf9503-448c-401a-82f3-caab7989657d",
    "collapsed": false,
    "execution": {
     "iopub.execute_input": "2024-06-10T16:00:59.220977Z",
     "iopub.status.busy": "2024-06-10T16:00:59.220717Z",
     "iopub.status.idle": "2024-06-10T16:00:59.227040Z",
     "shell.execute_reply": "2024-06-10T16:00:59.226220Z"
    },
    "jupyter": {
     "outputs_hidden": false
    },
    "papermill": {
     "duration": 0.015147,
     "end_time": "2024-06-10T16:00:59.228810",
     "exception": false,
     "start_time": "2024-06-10T16:00:59.213663",
     "status": "completed"
    },
    "tags": []
   },
   "outputs": [],
   "source": [
    "%%writefile /kaggle/working/yolov9/models/detect/YOLOv9-gelan-c.yaml\n",
    "\n",
    "# YOLOv9\n",
    "\n",
    "# parameters\n",
    "nc: 1  # number of classes\n",
    "depth_multiple: 1.0  # model depth multiple\n",
    "width_multiple: 1.0  # layer channel multiple\n",
    "#activation: nn.LeakyReLU(0.1)\n",
    "#activation: nn.ReLU()\n",
    "\n",
    "# anchors\n",
    "anchors: 3\n",
    "\n",
    "# gelan backbone\n",
    "backbone:\n",
    "  [\n",
    "   # conv down\n",
    "   [-1, 1, Conv, [64, 3, 2]],  # 0-P1/2\n",
    "\n",
    "   # conv down\n",
    "   [-1, 1, Conv, [128, 3, 2]],  # 1-P2/4\n",
    "\n",
    "   # elan-1 block\n",
    "   [-1, 1, RepNCSPELAN4, [256, 128, 64, 1]],  # 2\n",
    "\n",
    "   # avg-conv down\n",
    "   [-1, 1, ADown, [256]],  # 3-P3/8\n",
    "\n",
    "   # elan-2 block\n",
    "   [-1, 1, RepNCSPELAN4, [512, 256, 128, 1]],  # 4\n",
    "\n",
    "   # avg-conv down\n",
    "   [-1, 1, ADown, [512]],  # 5-P4/16\n",
    "\n",
    "   # elan-2 block\n",
    "   [-1, 1, RepNCSPELAN4, [512, 512, 256, 1]],  # 6\n",
    "\n",
    "   # avg-conv down\n",
    "   [-1, 1, ADown, [512]],  # 7-P5/32\n",
    "\n",
    "   # elan-2 block\n",
    "   [-1, 1, RepNCSPELAN4, [512, 512, 256, 1]],  # 8\n",
    "  ]\n",
    "\n",
    "# gelan head\n",
    "head:\n",
    "  [\n",
    "   # elan-spp block\n",
    "   [-1, 1, SPPELAN, [512, 256]],  # 9\n",
    "\n",
    "   # up-concat merge\n",
    "   [-1, 1, nn.Upsample, [None, 2, 'nearest']],\n",
    "   [[-1, 6], 1, Concat, [1]],  # cat backbone P4\n",
    "\n",
    "   # elan-2 block\n",
    "   [-1, 1, RepNCSPELAN4, [512, 512, 256, 1]],  # 12\n",
    "\n",
    "   # up-concat merge\n",
    "   [-1, 1, nn.Upsample, [None, 2, 'nearest']],\n",
    "   [[-1, 4], 1, Concat, [1]],  # cat backbone P3\n",
    "\n",
    "   # elan-2 block\n",
    "   [-1, 1, RepNCSPELAN4, [256, 256, 128, 1]],  # 15 (P3/8-small)\n",
    "\n",
    "   # avg-conv-down merge\n",
    "   [-1, 1, ADown, [256]],\n",
    "   [[-1, 12], 1, Concat, [1]],  # cat head P4\n",
    "\n",
    "   # elan-2 block\n",
    "   [-1, 1, RepNCSPELAN4, [512, 512, 256, 1]],  # 18 (P4/16-medium)\n",
    "\n",
    "   # avg-conv-down merge\n",
    "   [-1, 1, ADown, [512]],\n",
    "   [[-1, 9], 1, Concat, [1]],  # cat head P5\n",
    "\n",
    "   # elan-2 block\n",
    "   [-1, 1, RepNCSPELAN4, [512, 512, 256, 1]],  # 21 (P5/32-large)\n",
    "\n",
    "   # detect\n",
    "   [[15, 18, 21], 1, DDetect, [nc]],  # DDetect(P3, P4, P5)\n",
    "  ]"
   ]
  },
  {
   "cell_type": "code",
   "execution_count": 8,
   "id": "f6de0545",
   "metadata": {
    "_cell_guid": "74450400-fc2c-4642-962e-b46060b86531",
    "_uuid": "b97df6f0-c6f6-480d-8409-90e1e0ea9991",
    "collapsed": false,
    "execution": {
     "iopub.execute_input": "2024-06-10T16:00:59.243150Z",
     "iopub.status.busy": "2024-06-10T16:00:59.242914Z",
     "iopub.status.idle": "2024-06-10T16:00:59.248223Z",
     "shell.execute_reply": "2024-06-10T16:00:59.247372Z"
    },
    "jupyter": {
     "outputs_hidden": false
    },
    "papermill": {
     "duration": 0.015034,
     "end_time": "2024-06-10T16:00:59.250051",
     "exception": false,
     "start_time": "2024-06-10T16:00:59.235017",
     "status": "completed"
    },
    "tags": []
   },
   "outputs": [],
   "source": [
    "# # %load /kaggle/working/yolov9/models/detect/YOLOv9-gelan-c.yaml\n",
    "\n",
    "# # YOLOv9\n",
    "\n",
    "# # parameters\n",
    "# nc: 1  # number of classes\n",
    "# depth_multiple: 1.0  # model depth multiple\n",
    "# width_multiple: 1.0  # layer channel multiple\n",
    "# #activation: nn.LeakyReLU(0.1)\n",
    "# #activation: nn.ReLU()\n",
    "\n",
    "# # anchors\n",
    "# anchors: 3\n",
    "\n",
    "# # gelan backbone\n",
    "# backbone:\n",
    "#   [\n",
    "#    # conv down\n",
    "#    [-1, 1, Conv, [64, 3, 2]],  # 0-P1/2\n",
    "\n",
    "#    # conv down\n",
    "#    [-1, 1, Conv, [128, 3, 2]],  # 1-P2/4\n",
    "\n",
    "#    # elan-1 block\n",
    "#    [-1, 1, RepNCSPELAN4, [256, 128, 64, 1]],  # 2\n",
    "\n",
    "#    # avg-conv down\n",
    "#    [-1, 1, ADown, [256]],  # 3-P3/8\n",
    "\n",
    "#    # elan-2 block\n",
    "#    [-1, 1, RepNCSPELAN4, [512, 256, 128, 1]],  # 4\n",
    "\n",
    "#    # avg-conv down\n",
    "#    [-1, 1, ADown, [512]],  # 5-P4/16\n",
    "\n",
    "#    # elan-2 block\n",
    "#    [-1, 1, RepNCSPELAN4, [512, 512, 256, 1]],  # 6\n",
    "\n",
    "#    # avg-conv down\n",
    "#    [-1, 1, ADown, [512]],  # 7-P5/32\n",
    "\n",
    "#    # elan-2 block\n",
    "#    [-1, 1, RepNCSPELAN4, [512, 512, 256, 1]],  # 8\n",
    "#   ]\n",
    "\n",
    "# # gelan head\n",
    "# head:\n",
    "#   [\n",
    "#    # elan-spp block\n",
    "#    [-1, 1, SPPELAN, [512, 256]],  # 9\n",
    "\n",
    "#    # up-concat merge\n",
    "#    [-1, 1, nn.Upsample, [None, 2, 'nearest']],\n",
    "#    [[-1, 6], 1, Concat, [1]],  # cat backbone P4\n",
    "\n",
    "#    # elan-2 block\n",
    "#    [-1, 1, RepNCSPELAN4, [512, 512, 256, 1]],  # 12\n",
    "\n",
    "#    # up-concat merge\n",
    "#    [-1, 1, nn.Upsample, [None, 2, 'nearest']],\n",
    "#    [[-1, 4], 1, Concat, [1]],  # cat backbone P3\n",
    "\n",
    "#    # elan-2 block\n",
    "#    [-1, 1, RepNCSPELAN4, [256, 256, 128, 1]],  # 15 (P3/8-small)\n",
    "\n",
    "#    # avg-conv-down merge\n",
    "#    [-1, 1, ADown, [256]],\n",
    "#    [[-1, 12], 1, Concat, [1]],  # cat head P4\n",
    "\n",
    "#    # elan-2 block\n",
    "#    [-1, 1, RepNCSPELAN4, [512, 512, 256, 1]],  # 18 (P4/16-medium)\n",
    "\n",
    "#    # avg-conv-down merge\n",
    "#    [-1, 1, ADown, [512]],\n",
    "#    [[-1, 9], 1, Concat, [1]],  # cat head P5\n",
    "\n",
    "#    # elan-2 block\n",
    "#    [-1, 1, RepNCSPELAN4, [512, 512, 256, 1]],  # 21 (P5/32-large)\n",
    "\n",
    "#    # detect\n",
    "#    [[15, 18, 21], 1, DDetect, [nc]],  # DDetect(P3, P4, P5)\n",
    "#   ]\n"
   ]
  },
  {
   "cell_type": "markdown",
   "id": "ed408959",
   "metadata": {
    "_cell_guid": "1d02a823-daa8-42dc-b609-c31432353a6e",
    "_uuid": "e06161a6-0c50-42ab-b854-a9da500b51c3",
    "papermill": {
     "duration": 0.006017,
     "end_time": "2024-06-10T16:00:59.262269",
     "exception": false,
     "start_time": "2024-06-10T16:00:59.256252",
     "status": "completed"
    },
    "tags": []
   },
   "source": [
    "## Train with custom dataset - Gelan-c"
   ]
  },
  {
   "cell_type": "code",
   "execution_count": 9,
   "id": "107bbc29",
   "metadata": {
    "_cell_guid": "e5b3f8a1-9112-4518-bb1e-0b7477f5566d",
    "_uuid": "8bfd1251-7314-40cc-801b-3ec55d965254",
    "collapsed": false,
    "execution": {
     "iopub.execute_input": "2024-06-10T16:00:59.275506Z",
     "iopub.status.busy": "2024-06-10T16:00:59.275272Z",
     "iopub.status.idle": "2024-06-10T16:00:59.279153Z",
     "shell.execute_reply": "2024-06-10T16:00:59.278371Z"
    },
    "jupyter": {
     "outputs_hidden": false
    },
    "papermill": {
     "duration": 0.012593,
     "end_time": "2024-06-10T16:00:59.280986",
     "exception": false,
     "start_time": "2024-06-10T16:00:59.268393",
     "status": "completed"
    },
    "tags": []
   },
   "outputs": [],
   "source": [
    "### Train model with custome data\n",
    "\n",
    "%cd /kaggle/working/yolov9 \n",
    "\n",
    "data_yaml_path = \"/kaggle/input/braintumor/data.yaml\"\n",
    "cfg_path = \"/kaggle/working/yolov9/models/detect/YOLOv9-gelan-c.yaml\"\n",
    "weight_path = \"/kaggle/working/yolov9/gelan-c.pt\"\n",
    "hyps_path = \"/kaggle/working/yolov9/data/hyps/hyp.scratch-high.yaml\"\n",
    "\n",
    "!python train.py --workers 8 --device 0 --batch 16 --data {data_yaml_path} --img 640 --cfg {cfg_path} --weights {weight_path} --name gelan-c-ver --hyp {hyps_path} --min-items 0 --epochs 25 --close-mosaic 15  #--freeze 10\n",
    "\n",
    "# train gelan models\n",
    "# python train.py --workers 8 --device 0 --batch 32 --data data/coco.yaml --img 640 --cfg models/detect/gelan-c.yaml --weights '' --name gelan-c --hyp hyp.scratch-high.yaml --min-items 0 --epochs 500 --close-mosaic 15"
   ]
  },
  {
   "cell_type": "markdown",
   "id": "8ad1ab45",
   "metadata": {
    "papermill": {
     "duration": 0.006157,
     "end_time": "2024-06-10T16:00:59.293498",
     "exception": false,
     "start_time": "2024-06-10T16:00:59.287341",
     "status": "completed"
    },
    "tags": []
   },
   "source": [
    "## Train with custom dataset - YOLOv9"
   ]
  },
  {
   "cell_type": "code",
   "execution_count": 10,
   "id": "3fe50540",
   "metadata": {
    "execution": {
     "iopub.execute_input": "2024-06-10T16:00:59.306724Z",
     "iopub.status.busy": "2024-06-10T16:00:59.306462Z",
     "iopub.status.idle": "2024-06-10T16:00:59.309921Z",
     "shell.execute_reply": "2024-06-10T16:00:59.309123Z"
    },
    "papermill": {
     "duration": 0.012156,
     "end_time": "2024-06-10T16:00:59.311743",
     "exception": false,
     "start_time": "2024-06-10T16:00:59.299587",
     "status": "completed"
    },
    "tags": []
   },
   "outputs": [],
   "source": [
    "!cp /kaggle/working/yolov9/models/detect/yolov9-c.yaml /kaggle/working/yolov9/models/detect/YOLOv9-yolov9-c.yaml"
   ]
  },
  {
   "cell_type": "code",
   "execution_count": 11,
   "id": "72729adc",
   "metadata": {
    "execution": {
     "iopub.execute_input": "2024-06-10T16:00:59.325452Z",
     "iopub.status.busy": "2024-06-10T16:00:59.325169Z",
     "iopub.status.idle": "2024-06-10T16:00:59.332174Z",
     "shell.execute_reply": "2024-06-10T16:00:59.331319Z"
    },
    "papermill": {
     "duration": 0.016171,
     "end_time": "2024-06-10T16:00:59.334063",
     "exception": false,
     "start_time": "2024-06-10T16:00:59.317892",
     "status": "completed"
    },
    "tags": []
   },
   "outputs": [],
   "source": [
    "%%writefile /kaggle/working/yolov9/models/detect/YOLOv9-yolov9-c.yaml\n",
    "# YOLOv9\n",
    "\n",
    "# parameters\n",
    "nc: 1  # number of classes\n",
    "depth_multiple: 1.0  # model depth multiple\n",
    "width_multiple: 1.0  # layer channel multiple\n",
    "#activation: nn.LeakyReLU(0.1)\n",
    "#activation: nn.ReLU()\n",
    "\n",
    "# anchors\n",
    "anchors: 3\n",
    "\n",
    "# YOLOv9 backbone\n",
    "backbone:\n",
    "  [\n",
    "   [-1, 1, Silence, []],  \n",
    "   \n",
    "   # conv down\n",
    "   [-1, 1, Conv, [64, 3, 2]],  # 1-P1/2\n",
    "\n",
    "   # conv down\n",
    "   [-1, 1, Conv, [128, 3, 2]],  # 2-P2/4\n",
    "\n",
    "   # elan-1 block\n",
    "   [-1, 1, RepNCSPELAN4, [256, 128, 64, 1]],  # 3\n",
    "\n",
    "   # avg-conv down\n",
    "   [-1, 1, ADown, [256]],  # 4-P3/8\n",
    "\n",
    "   # elan-2 block\n",
    "   [-1, 1, RepNCSPELAN4, [512, 256, 128, 1]],  # 5\n",
    "\n",
    "   # avg-conv down\n",
    "   [-1, 1, ADown, [512]],  # 6-P4/16\n",
    "\n",
    "   # elan-2 block\n",
    "   [-1, 1, RepNCSPELAN4, [512, 512, 256, 1]],  # 7\n",
    "\n",
    "   # avg-conv down\n",
    "   [-1, 1, ADown, [512]],  # 8-P5/32\n",
    "\n",
    "   # elan-2 block\n",
    "   [-1, 1, RepNCSPELAN4, [512, 512, 256, 1]],  # 9\n",
    "  ]\n",
    "\n",
    "# YOLOv9 head\n",
    "head:\n",
    "  [\n",
    "   # elan-spp block\n",
    "   [-1, 1, SPPELAN, [512, 256]],  # 10\n",
    "\n",
    "   # up-concat merge\n",
    "   [-1, 1, nn.Upsample, [None, 2, 'nearest']],\n",
    "   [[-1, 7], 1, Concat, [1]],  # cat backbone P4\n",
    "\n",
    "   # elan-2 block\n",
    "   [-1, 1, RepNCSPELAN4, [512, 512, 256, 1]],  # 13\n",
    "\n",
    "   # up-concat merge\n",
    "   [-1, 1, nn.Upsample, [None, 2, 'nearest']],\n",
    "   [[-1, 5], 1, Concat, [1]],  # cat backbone P3\n",
    "\n",
    "   # elan-2 block\n",
    "   [-1, 1, RepNCSPELAN4, [256, 256, 128, 1]],  # 16 (P3/8-small)\n",
    "\n",
    "   # avg-conv-down merge\n",
    "   [-1, 1, ADown, [256]],\n",
    "   [[-1, 13], 1, Concat, [1]],  # cat head P4\n",
    "\n",
    "   # elan-2 block\n",
    "   [-1, 1, RepNCSPELAN4, [512, 512, 256, 1]],  # 19 (P4/16-medium)\n",
    "\n",
    "   # avg-conv-down merge\n",
    "   [-1, 1, ADown, [512]],\n",
    "   [[-1, 10], 1, Concat, [1]],  # cat head P5\n",
    "\n",
    "   # elan-2 block\n",
    "   [-1, 1, RepNCSPELAN4, [512, 512, 256, 1]],  # 22 (P5/32-large)\n",
    "   \n",
    "   \n",
    "   # multi-level reversible auxiliary branch\n",
    "   \n",
    "   # routing\n",
    "   [5, 1, CBLinear, [[256]]], # 23\n",
    "   [7, 1, CBLinear, [[256, 512]]], # 24\n",
    "   [9, 1, CBLinear, [[256, 512, 512]]], # 25\n",
    "   \n",
    "   # conv down\n",
    "   [0, 1, Conv, [64, 3, 2]],  # 26-P1/2\n",
    "\n",
    "   # conv down\n",
    "   [-1, 1, Conv, [128, 3, 2]],  # 27-P2/4\n",
    "\n",
    "   # elan-1 block\n",
    "   [-1, 1, RepNCSPELAN4, [256, 128, 64, 1]],  # 28\n",
    "\n",
    "   # avg-conv down fuse\n",
    "   [-1, 1, ADown, [256]],  # 29-P3/8\n",
    "   [[23, 24, 25, -1], 1, CBFuse, [[0, 0, 0]]], # 30  \n",
    "\n",
    "   # elan-2 block\n",
    "   [-1, 1, RepNCSPELAN4, [512, 256, 128, 1]],  # 31\n",
    "\n",
    "   # avg-conv down fuse\n",
    "   [-1, 1, ADown, [512]],  # 32-P4/16\n",
    "   [[24, 25, -1], 1, CBFuse, [[1, 1]]], # 33 \n",
    "\n",
    "   # elan-2 block\n",
    "   [-1, 1, RepNCSPELAN4, [512, 512, 256, 1]],  # 34\n",
    "\n",
    "   # avg-conv down fuse\n",
    "   [-1, 1, ADown, [512]],  # 35-P5/32\n",
    "   [[25, -1], 1, CBFuse, [[2]]], # 36\n",
    "\n",
    "   # elan-2 block\n",
    "   [-1, 1, RepNCSPELAN4, [512, 512, 256, 1]],  # 37\n",
    "   \n",
    "   \n",
    "   \n",
    "   # detection head\n",
    "\n",
    "   # detect\n",
    "   [[31, 34, 37, 16, 19, 22], 1, DualDDetect, [nc]],  # DualDDetect(A3, A4, A5, P3, P4, P5)\n",
    "  ]\n"
   ]
  },
  {
   "cell_type": "code",
   "execution_count": 12,
   "id": "adf26608",
   "metadata": {
    "execution": {
     "iopub.execute_input": "2024-06-10T16:00:59.347255Z",
     "iopub.status.busy": "2024-06-10T16:00:59.347023Z",
     "iopub.status.idle": "2024-06-10T16:00:59.351002Z",
     "shell.execute_reply": "2024-06-10T16:00:59.350054Z"
    },
    "papermill": {
     "duration": 0.012741,
     "end_time": "2024-06-10T16:00:59.352936",
     "exception": false,
     "start_time": "2024-06-10T16:00:59.340195",
     "status": "completed"
    },
    "tags": []
   },
   "outputs": [],
   "source": [
    "### Train model with custome data\n",
    "\n",
    "%cd /kaggle/working/yolov9 \n",
    "\n",
    "data_yaml_path = \"/kaggle/input/braintumor/data.yaml\"\n",
    "cfg_path = \"/kaggle/working/yolov9/models/detect/YOLOv9-yolov9-c.yaml\"\n",
    "weight_path = \"/kaggle/working/yolov9/yolov9-e-converted.pt\"\n",
    "hyps_path = \"/kaggle/working/yolov9/data/hyps/hyp.scratch-high.yaml\"\n",
    "\n",
    "!python train_dual.py --workers 8 --device 0 --batch 8 --data {data_yaml_path} --img 640 --cfg {cfg_path} --weights {weight_path} --name yolov9-c-ver --hyp {hyps_path} --min-items 0 --epochs 15 --close-mosaic 15  #--freeze 10\n",
    "\n",
    "# train gelan models\n",
    "# python train.py --workers 8 --device 0 --batch 32 --data data/coco.yaml --img 640 --cfg models/detect/gelan-c.yaml --weights '' --name gelan-c --hyp hyp.scratch-high.yaml --min-items 0 --epochs 500 --close-mosaic 15"
   ]
  },
  {
   "cell_type": "markdown",
   "id": "b867ae6d",
   "metadata": {
    "papermill": {
     "duration": 0.006262,
     "end_time": "2024-06-10T16:01:00.437430",
     "exception": false,
     "start_time": "2024-06-10T16:01:00.431168",
     "status": "completed"
    },
    "tags": []
   },
   "source": [
    "## Train with custom dataset - YOLOv9 freeze 5"
   ]
  },
  {
   "cell_type": "code",
   "execution_count": 14,
   "id": "92fd7c7d",
   "metadata": {
    "execution": {
     "iopub.execute_input": "2024-06-10T16:01:00.452027Z",
     "iopub.status.busy": "2024-06-10T16:01:00.451374Z",
     "iopub.status.idle": "2024-06-10T16:01:01.522649Z",
     "shell.execute_reply": "2024-06-10T16:01:01.521499Z"
    },
    "papermill": {
     "duration": 1.081172,
     "end_time": "2024-06-10T16:01:01.524973",
     "exception": false,
     "start_time": "2024-06-10T16:01:00.443801",
     "status": "completed"
    },
    "tags": []
   },
   "outputs": [
    {
     "name": "stdout",
     "output_type": "stream",
     "text": [
      "[Errno 2] No such file or directory: '/kaggle/working/yolov9'\n",
      "/kaggle/working\n",
      "python: can't open file '/kaggle/working/train_dual.py': [Errno 2] No such file or directory\r\n"
     ]
    }
   ],
   "source": [
    "### Train model with custome data\n",
    "\n",
    "%cd /kaggle/working/yolov9 \n",
    "\n",
    "data_yaml_path = \"/kaggle/input/braintumor/data.yaml\"\n",
    "cfg_path = \"/kaggle/working/yolov9/models/detect/YOLOv9-yolov9-c.yaml\"\n",
    "weight_path = \"/kaggle/working/yolov9/yolov9-e-converted.pt\"\n",
    "hyps_path = \"/kaggle/working/yolov9/data/hyps/hyp.scratch-high.yaml\"\n",
    "\n",
    "!python train_dual.py --workers 8 --device 0 --batch 16 --data {data_yaml_path} --img 640 --cfg {cfg_path} --weights {weight_path} --name yolov9-c-freeze --hyp {hyps_path} --min-items 0 --epochs 35 --close-mosaic 15  --freeze 5\n",
    "\n",
    "# train gelan models\n",
    "# python train.py --workers 8 --device 0 --batch 32 --data data/coco.yaml --img 640 --cfg models/detect/gelan-c.yaml --weights '' --name gelan-c --hyp hyp.scratch-high.yaml --min-items 0 --epochs 500 --close-mosaic 15"
   ]
  }
 ],
 "metadata": {
  "kaggle": {
   "accelerator": "gpu",
   "dataSources": [
    {
     "datasetId": 5063198,
     "sourceId": 8487429,
     "sourceType": "datasetVersion"
    }
   ],
   "dockerImageVersionId": 30699,
   "isGpuEnabled": true,
   "isInternetEnabled": true,
   "language": "python",
   "sourceType": "notebook"
  },
  "kernelspec": {
   "display_name": "Python 3",
   "language": "python",
   "name": "python3"
  },
  "language_info": {
   "codemirror_mode": {
    "name": "ipython",
    "version": 3
   },
   "file_extension": ".py",
   "mimetype": "text/x-python",
   "name": "python",
   "nbconvert_exporter": "python",
   "pygments_lexer": "ipython3",
   "version": "3.10.13"
  },
  "papermill": {
   "default_parameters": {},
   "duration": 5.42333,
   "end_time": "2024-06-10T16:01:01.751041",
   "environment_variables": {},
   "exception": null,
   "input_path": "__notebook__.ipynb",
   "output_path": "__notebook__.ipynb",
   "parameters": {},
   "start_time": "2024-06-10T16:00:56.327711",
   "version": "2.5.0"
  }
 },
 "nbformat": 4,
 "nbformat_minor": 5
}
